{
 "cells": [
  {
   "cell_type": "code",
   "execution_count": 235,
   "metadata": {
    "collapsed": true
   },
   "outputs": [],
   "source": [
    "import random\n",
    "from numpy.random import choice\n",
    "import re\n",
    "import os"
   ]
  },
  {
   "cell_type": "code",
   "execution_count": 236,
   "metadata": {
    "collapsed": false
   },
   "outputs": [],
   "source": [
    "parent = dict()\n",
    "rank = dict()\n",
    "\n",
    "order_type = {\"reverse\": 1, \"random\": 2}\n",
    "\n",
    "def make_set(vertice):\n",
    "    parent[vertice] = vertice\n",
    "    rank[vertice] = 0\n",
    "\n",
    "def find(vertice):\n",
    "    if parent[vertice] != vertice:\n",
    "        parent[vertice] = find(parent[vertice])\n",
    "    return parent[vertice]\n",
    "\n",
    "def union(vertice1, vertice2):\n",
    "    root1 = find(vertice1)\n",
    "    root2 = find(vertice2)\n",
    "    if root1 != root2:\n",
    "        if rank[root1] > rank[root2]:\n",
    "            parent[root2] = root1\n",
    "\telse:\n",
    "\t    parent[root1] = root2\n",
    "\tif rank[root1] == rank[root2]: rank[root2] += 1\n",
    "\n",
    "def kruskal(graph, edges_order_type): \n",
    "    \n",
    "    if edges_order_type == order_type[\"reverse\"]:\n",
    "        edges = list(graph['edges'])\n",
    "        edges.sort()\n",
    "        edges.reverse()\n",
    "    elif edges_order_type == order_type[\"random\"]:\n",
    "        edges = list(graph['edges'])\n",
    "        random.shuffle(edges)\n",
    "    \n",
    "    for vertice in graph['vertices']:\n",
    "        make_set(vertice)\n",
    "        minimum_spanning_tree = set()\n",
    "        #print edges\n",
    "    for edge in edges:\n",
    "        weight, vertice1, vertice2 = edge\n",
    "        if find(vertice1) != find(vertice2):\n",
    "            union(vertice1, vertice2)\n",
    "            minimum_spanning_tree.add(edge)\n",
    "    \n",
    "    return sorted(minimum_spanning_tree)"
   ]
  },
  {
   "cell_type": "code",
   "execution_count": 237,
   "metadata": {
    "collapsed": true
   },
   "outputs": [],
   "source": [
    "def ler_rede(rede): \n",
    "    file_ = open(rede, \"r\")\n",
    "    rows = file_.readlines()\n",
    "\n",
    "    edges = []\n",
    "\n",
    "    #store value in format vertice_name => color\n",
    "    vertices_colors = dict()\n",
    "    vertice_color = 0\n",
    "\n",
    "    for row in rows:\n",
    "        data = row.split()\n",
    "\n",
    "        start_vertice = data[0]\n",
    "        weight = float(data[1])\n",
    "        end_vertice = data[2]\n",
    "\n",
    "        edges.append((weight, start_vertice, end_vertice))\n",
    "\n",
    "        vertices_colors[start_vertice] = vertice_color\n",
    "        vertice_color += 1 \n",
    "\n",
    "        vertices_colors[end_vertice] = vertice_color\n",
    "        vertice_color += 1\n",
    "\n",
    "    vertices = list(vertices_colors.keys())\n",
    "    print len(vertices), \" vertices\"\n",
    "    print len(edges), \" edges\"\n",
    "    return {\"vertices\": vertices, \"edges\": edges, \"vertices_colors\": vertices_colors}\n"
   ]
  },
  {
   "cell_type": "code",
   "execution_count": 238,
   "metadata": {
    "collapsed": true
   },
   "outputs": [],
   "source": [
    "def create_vertices_id(vertices):\n",
    "    vertices_id = dict()\n",
    "\n",
    "    counter = 0\n",
    "\n",
    "    for vertice_ in vertices:\n",
    "        vertices_id[vertice_] = counter\n",
    "        counter = counter + 1\n",
    "    return vertices_id"
   ]
  },
  {
   "cell_type": "code",
   "execution_count": 239,
   "metadata": {
    "collapsed": true
   },
   "outputs": [],
   "source": [
    "#Trocar as cores\n",
    "def trocar_cores(edges, vertices_colors):\n",
    "    for edge in edges:\n",
    "        weight = edge[0]\n",
    "        start = edge[1]\n",
    "        end = edge[2]\n",
    "\n",
    "        #probabilidade de pegar a cor do primeiro\n",
    "        should_change_color = choice(a = [True, False], p = [weight, 1 - weight])\n",
    "\n",
    "        if should_change_color:\n",
    "\n",
    "            should_get_first_color = choice(a = [True, False], p = [0.5, 0.5])\n",
    "\n",
    "            if should_get_first_color:\n",
    "                vertices_colors[end] = vertices_colors[start]\n",
    "            else: \n",
    "                vertices_colors[start] = vertices_colors[end]"
   ]
  },
  {
   "cell_type": "code",
   "execution_count": 240,
   "metadata": {
    "collapsed": true
   },
   "outputs": [],
   "source": [
    "#rerotular\n",
    "def rerotular(vertices_colors):\n",
    "    color = dict()\n",
    "    color_count = 0\n",
    "\n",
    "    for vertice, vertice_color in vertices_colors.iteritems():\n",
    "        if vertice_color not in color:\n",
    "            color[vertice_color] = color_count\n",
    "            color_count = color_count + 1    \n",
    "\n",
    "\n",
    "        vertices_colors[vertice] = color[vertice_color]\n",
    "\n",
    "    color_count = color_count + 1\n",
    "    print color_count, \" cores ao total\"\n",
    "    \n",
    "    return color_count"
   ]
  },
  {
   "cell_type": "code",
   "execution_count": 241,
   "metadata": {
    "collapsed": true
   },
   "outputs": [],
   "source": [
    "def create_adjacency_list(graph, order_type_, vertices_id):\n",
    "    edges_selected = kruskal(graph, order_type_)\n",
    "    \n",
    "    \n",
    "    if order_type_ == order_type[\"reverse\"]:\n",
    "        print len(edges_selected), \" edges selecionadas pelo algoritmo para o tipo reverse\"\n",
    "    elif order_type_ == order_type[\"random\"]:\n",
    "        print len(edges_selected), \" edges selecionadas pelo algoritmo para o tipo random\"\n",
    "    \n",
    "\n",
    "    number_of_vertices = len(graph[\"vertices\"])\n",
    "\n",
    "    adjacency_list = [[] for i in xrange(number_of_vertices)]\n",
    "\n",
    "    for edge in edges_selected:\n",
    "        start_vertice = edge[1]\n",
    "        end_vertice = edge[2]\n",
    "\n",
    "        adjacency_list[vertices_id[start_vertice]].append(str(vertices_id[end_vertice] + 1))\n",
    "        adjacency_list[vertices_id[end_vertice]].append(str(vertices_id[start_vertice] + 1))\n",
    "        \n",
    "    return adjacency_list    "
   ]
  },
  {
   "cell_type": "code",
   "execution_count": 242,
   "metadata": {
    "collapsed": true
   },
   "outputs": [],
   "source": [
    "#cria arquivos de vertices\n",
    "def create_vertices_file(vertices_colors, folder):\n",
    "    vertices_colors_file = file(folder + \"/vertices_colors.csv\", \"w+\")\n",
    "\n",
    "    vertices_color_content = []\n",
    "\n",
    "    for vertice, vertice_color in vertices_colors.iteritems():\n",
    "        vertices_color_content.append(str(vertice_color + 1))\n",
    "\n",
    "    vertices_colors_file.write(\",\".join(vertices_color_content))\n",
    "    vertices_colors_file.close()\n"
   ]
  },
  {
   "cell_type": "code",
   "execution_count": 243,
   "metadata": {
    "collapsed": true
   },
   "outputs": [],
   "source": [
    "def create_edges_file(adjacency_list, number_of_vertices_, type_, folder):\n",
    "    edges_file = file(folder + \"/edges/\" + type_ + \"-edges.csv\", \"w+\")\n",
    "    \n",
    "    vertices_range = xrange(number_of_vertices_)\n",
    "\n",
    "    adjacency_list_text = [[] for i in vertices_range]\n",
    "\n",
    "    for i in vertices_range:\n",
    "        adjacency_list_text[i] = \" \".join(str(v) for v in adjacency_list[i])\n",
    "\n",
    "    edges_file.write(\"\\n\".join(adjacency_list_text))\n",
    "    edges_file.close()    "
   ]
  },
  {
   "cell_type": "code",
   "execution_count": 244,
   "metadata": {
    "collapsed": true
   },
   "outputs": [],
   "source": [
    "def create_motifys_files(source, number_of_colors, vertices_colors, folder):\n",
    "           \n",
    "    motify_file = open(source, \"r\")\n",
    "    motify_lines = motify_file.readlines()\n",
    "    \n",
    "    for i in xrange(len(motify_lines)):    \n",
    "        counter = 0\n",
    "\n",
    "        motify_sample = motify_lines[i]\n",
    "\n",
    "        motify_parse = re.split(r'\\t+', motify_sample)\n",
    "        motify_description = motify_parse[1].split()\n",
    "\n",
    "        i_str = str(i + 1)\n",
    "\n",
    "        color_frequency = [\"0\"] * number_of_colors\n",
    "        total_color = 0\n",
    "\n",
    "        for vertice_ in motify_description:\n",
    "\n",
    "            if vertice_ in vertices_colors: \n",
    "                color = vertices_colors[vertice_]\n",
    "\n",
    "                frequency = int(color_frequency[color])\n",
    "\n",
    "                if frequency == 0:\n",
    "                    total_color = total_color + 1\n",
    "\n",
    "                color_frequency[color] = str(frequency + 1)\n",
    "            else:\n",
    "                counter = counter + 1\n",
    "\n",
    "        total_vertices = len(motify_description) - counter\n",
    "        motify_frequency_file = open(folder + \"/motify/motify-\" + i_str + \"-\" + str(total_vertices) + \"-\" + str(total_color) + \".csv\", \"w+\")\n",
    "\n",
    "        motify_frequency_file.write(\",\".join(color_frequency))\n",
    "        motify_frequency_file.close()"
   ]
  },
  {
   "cell_type": "code",
   "execution_count": 245,
   "metadata": {
    "collapsed": false
   },
   "outputs": [],
   "source": [
    "def create_instance(config):\n",
    "    \n",
    "    print \"Criando instancia para a rede: \", config[\"rede\"], \" motify: \", config[\"motify\"], \" na pasta \", config[\"folder\"]\n",
    "    \n",
    "    if not os.path.exists(config[\"folder\"]):\n",
    "        os.makedirs(config[\"folder\"])\n",
    "        os.makedirs(config[\"folder\"] + \"/motify\")\n",
    "        os.makedirs(config[\"folder\"] + \"/edges\")\n",
    "    \n",
    "    rede = ler_rede(config[\"rede\"])\n",
    "    vertices_id = create_vertices_id(rede[\"vertices\"])\n",
    "    trocar_cores(rede[\"edges\"], rede[\"vertices_colors\"])\n",
    "    color_count = rerotular(rede[\"vertices_colors\"])\n",
    "\n",
    "\n",
    "    #cria lista de adjacencia\n",
    "    graph = {\n",
    "        'vertices': rede[\"vertices\"],\n",
    "        'edges': set(rede[\"edges\"])\n",
    "    }\n",
    "\n",
    "    adjacency_list_random = create_adjacency_list(graph, order_type[\"random\"], vertices_id)\n",
    "    adjacency_list_reverse = create_adjacency_list(graph, order_type[\"reverse\"], vertices_id)\n",
    "\n",
    "    #criar arquivo de lista de adjacencia\n",
    "    number_of_vertices  = len(vertices_id)\n",
    "    create_edges_file(adjacency_list_random, number_of_vertices, \"random\", config[\"folder\"])\n",
    "    create_edges_file(adjacency_list_reverse, number_of_vertices, \"reverse\", config[\"folder\"])\n",
    "\n",
    "    #create motify files\n",
    "    vertices_colors = rede[\"vertices_colors\"]\n",
    "    create_motifys_files(config[\"motify\"], color_count, vertices_colors, config[\"folder\"])\n",
    "\n",
    "    #create vertices colors file \n",
    "    create_vertices_file(vertices_colors, config[\"folder\"])"
   ]
  },
  {
   "cell_type": "code",
   "execution_count": 246,
   "metadata": {
    "collapsed": true
   },
   "outputs": [],
   "source": [
    "def main():\n",
    "    configs = [\n",
    "        {\n",
    "            \"rede\": \"redes/test.txt\",\n",
    "            \"motify\": \"motify/test_motify.txt\",\n",
    "            \"folder\": os.path.join(os.pardir, \"instancias/teste\")\n",
    "        },\n",
    "        {\n",
    "            \"rede\": \"redes/SC_Torque.sif\",\n",
    "            \"motify\": \"motify/SC_Yeast_Complexes_SGD_filtrado.txt\",\n",
    "            \"folder\": os.path.join(os.pardir, \"instancias/SC\")\n",
    "        }\n",
    "#         {\n",
    "#             \"rede\": \"redes/HomoSapiens_Torque.sif\",\n",
    "#             \"motify\": \"motify/HS_Human_Complexes_CORUM_filtrado.txt\",\n",
    "#             \"folder\": os.path.join(os.pardir, \"instancias/HS\")\n",
    "#         }\n",
    "#         {\n",
    "#             \"rede\": \"redes/DM_Torque.sif\",\n",
    "#             \"folder\": os.path.join(os.pardir, \"instancias/DM\"),\n",
    "#             \"motify\": \"motify/DM_Fly_Complexes_GO_filtrado.txt\"\n",
    "#         }\n",
    "    ]\n",
    "\n",
    "    for config in configs:\n",
    "        create_instance(config)\n",
    "        print \"\\n\\n\""
   ]
  },
  {
   "cell_type": "code",
   "execution_count": 247,
   "metadata": {
    "collapsed": false
   },
   "outputs": [
    {
     "name": "stdout",
     "output_type": "stream",
     "text": [
      "Criando instancia para a rede:  redes/test.txt  motify:  motify/test_motify.txt  na pasta  ../instancias/teste\n",
      "6  vertices\n",
      "10  edges\n",
      "3  cores ao total\n",
      "5  edges selecionadas pelo algoritmo para o tipo random\n",
      "5  edges selecionadas pelo algoritmo para o tipo reverse\n",
      "\n",
      "\n",
      "\n",
      "Criando instancia para a rede:  redes/SC_Torque.sif  motify:  motify/SC_Yeast_Complexes_SGD_filtrado.txt  na pasta  ../instancias/SC\n",
      "5414  vertices\n",
      "39936  edges\n",
      "2465  cores ao total\n",
      "5399  edges selecionadas pelo algoritmo para o tipo random\n",
      "5399  edges selecionadas pelo algoritmo para o tipo reverse\n",
      "\n",
      "\n",
      "\n"
     ]
    }
   ],
   "source": [
    "main()"
   ]
  },
  {
   "cell_type": "code",
   "execution_count": 248,
   "metadata": {
    "collapsed": false
   },
   "outputs": [
    {
     "name": "stdout",
     "output_type": "stream",
     "text": [
      "{'random': 2, 'reverse': 1}\n"
     ]
    }
   ],
   "source": [
    "order_type = {\"reverse\": 1, \"random\": 2}\n",
    "print order_type"
   ]
  }
 ],
 "metadata": {
  "anaconda-cloud": {},
  "kernelspec": {
   "display_name": "Python [default]",
   "language": "python",
   "name": "python2"
  },
  "language_info": {
   "codemirror_mode": {
    "name": "ipython",
    "version": 2
   },
   "file_extension": ".py",
   "mimetype": "text/x-python",
   "name": "python",
   "nbconvert_exporter": "python",
   "pygments_lexer": "ipython2",
   "version": "2.7.12"
  }
 },
 "nbformat": 4,
 "nbformat_minor": 1
}
