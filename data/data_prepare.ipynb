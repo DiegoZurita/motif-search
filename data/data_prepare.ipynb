{
 "cells": [
  {
   "cell_type": "code",
   "execution_count": 1,
   "metadata": {
    "collapsed": false
   },
   "outputs": [],
   "source": [
    "import random\n",
    "from numpy.random import choice\n",
    "import re"
   ]
  },
  {
   "cell_type": "code",
   "execution_count": 2,
   "metadata": {
    "collapsed": true
   },
   "outputs": [],
   "source": [
    "rede = \"redes/SC_Torque.sif\"\n",
    "motify = \"motify/SC_Yeast_Complexes_SGD_filtrado.txt\"\n",
    "folder = \"SC\"\n",
    "\n",
    "#rede = \"redes/HomoSapiens_Torque.sif\"\n",
    "#motify = \"motify/HS_Human_Complexes_CORUM_filtrado.txt\"\n",
    "#folder = \"HS\"\n",
    "\n",
    "#rede = \"redes/DM_Torque.sif\"\n",
    "#folder = \"DM\"\n",
    "#motify = \"motify/DM_Fly_Complexes_GO_filtrado.txt\""
   ]
  },
  {
   "cell_type": "code",
   "execution_count": 3,
   "metadata": {
    "collapsed": false
   },
   "outputs": [],
   "source": [
    "parent = dict()\n",
    "rank = dict()\n",
    "\n",
    "def make_set(vertice):\n",
    "    parent[vertice] = vertice\n",
    "    rank[vertice] = 0\n",
    "\n",
    "def find(vertice):\n",
    "    if parent[vertice] != vertice:\n",
    "        parent[vertice] = find(parent[vertice])\n",
    "    return parent[vertice]\n",
    "\n",
    "def union(vertice1, vertice2):\n",
    "    root1 = find(vertice1)\n",
    "    root2 = find(vertice2)\n",
    "    if root1 != root2:\n",
    "        if rank[root1] > rank[root2]:\n",
    "            parent[root2] = root1\n",
    "\telse:\n",
    "\t    parent[root1] = root2\n",
    "\tif rank[root1] == rank[root2]: rank[root2] += 1\n",
    "\n",
    "def kruskal(graph):\n",
    "    edges = list(graph['edges'])\n",
    "    \n",
    "    #random.shuffle(edges)\n",
    "    edges.sort()\n",
    "    #edges.reverse()\n",
    "    # print edges\n",
    "    \n",
    "    for vertice in graph['vertices']:\n",
    "        make_set(vertice)\n",
    "        minimum_spanning_tree = set()\n",
    "\n",
    "    for edge in edges:\n",
    "        weight, vertice1, vertice2 = edge\n",
    "        if find(vertice1) != find(vertice2):\n",
    "            union(vertice1, vertice2)\n",
    "            minimum_spanning_tree.add(edge)\n",
    "            \n",
    "    return  (minimum_spanning_tree)"
   ]
  },
  {
   "cell_type": "code",
   "execution_count": 4,
   "metadata": {
    "collapsed": false
   },
   "outputs": [
    {
     "name": "stdout",
     "output_type": "stream",
     "text": [
      "5414\n"
     ]
    }
   ],
   "source": [
    "file_ = open(rede, \"r\")\n",
    "rows = file_.readlines()\n",
    "\n",
    "edges = []\n",
    "\n",
    "#store value in format vertice_name => color\n",
    "vertices_colors = dict()\n",
    "vertice_color = 0\n",
    "\n",
    "for row in rows:\n",
    "    data = row.split()\n",
    "    \n",
    "    start_vertice = data[0]\n",
    "    weight = float(data[1])\n",
    "    end_vertice = data[2]\n",
    "    \n",
    "    edges.append((weight, start_vertice, end_vertice))\n",
    "    \n",
    "    vertices_colors[start_vertice] = vertice_color\n",
    "    vertice_color += 1 \n",
    "    \n",
    "    vertices_colors[end_vertice] = vertice_color\n",
    "    vertice_color += 1\n",
    "    \n",
    "vertices = list(vertices_colors.keys())\n",
    "print len(vertices)\n"
   ]
  },
  {
   "cell_type": "code",
   "execution_count": 5,
   "metadata": {
    "collapsed": false
   },
   "outputs": [
    {
     "name": "stdout",
     "output_type": "stream",
     "text": [
      "5414\n"
     ]
    }
   ],
   "source": [
    "vertices_id = dict()\n",
    "\n",
    "counter = 0\n",
    "\n",
    "for vertice_ in vertices:\n",
    "    vertices_id[vertice_] = counter\n",
    "    counter = counter + 1\n",
    "print counter"
   ]
  },
  {
   "cell_type": "code",
   "execution_count": 6,
   "metadata": {
    "collapsed": false
   },
   "outputs": [],
   "source": [
    "#Trocar as cores\n",
    "for edge in edges:\n",
    "    weight = edge[0]\n",
    "    start = edge[1]\n",
    "    end = edge[2]\n",
    "    \n",
    "    #probabilidade de pegar a cor do primeiro\n",
    "    should_change_color = choice(a = [True, False], p = [weight, 1 - weight])\n",
    "    \n",
    "    if should_change_color:\n",
    "        \n",
    "        should_get_first_color = choice(a = [True, False], p = [0.5, 0.5])\n",
    "        \n",
    "        if should_get_first_color:\n",
    "            vertices_colors[end] = vertices_colors[start]\n",
    "        else: \n",
    "            vertices_colors[start] = vertices_colors[end]"
   ]
  },
  {
   "cell_type": "code",
   "execution_count": 7,
   "metadata": {
    "collapsed": false
   },
   "outputs": [
    {
     "name": "stdout",
     "output_type": "stream",
     "text": [
      "2491\n"
     ]
    }
   ],
   "source": [
    "#rerotular\n",
    "color = dict()\n",
    "color_count = 0\n",
    "\n",
    "for vertice, vertice_color in vertices_colors.iteritems():\n",
    "    if vertice_color not in color:\n",
    "        color[vertice_color] = color_count\n",
    "        color_count = color_count + 1    \n",
    "           \n",
    "            \n",
    "    vertices_colors[vertice] = color[vertice_color]\n",
    "    \n",
    "color_count = color_count + 1\n",
    "print color_count"
   ]
  },
  {
   "cell_type": "code",
   "execution_count": 8,
   "metadata": {
    "collapsed": false
   },
   "outputs": [
    {
     "name": "stdout",
     "output_type": "stream",
     "text": [
      "numero de vertices:  5414\n",
      "depois de creia o arquivo:  5414\n"
     ]
    }
   ],
   "source": [
    "#cria arquivos de vertices\n",
    "\n",
    "vertices_colors_file = file(folder + \"/vertices_colors.csv\", \"w+\")\n",
    "\n",
    "vertices_color_content = []\n",
    "\n",
    "for vertice, vertice_color in vertices_colors.iteritems():\n",
    "    vertices_color_content.append(str(vertice_color + 1))\n",
    "    \n",
    "print \"numero de vertices: \", len(vertices_color_content)\n",
    "    \n",
    "vertices_colors_file.write(\",\".join(vertices_color_content))\n",
    "\n",
    "vertices_colors_file.close()\n",
    "\n",
    "file_after = file(folder + \"/vertices_colors.csv\", \"r\")\n",
    "lines = file_after.readlines()\n",
    "\n",
    "print \"depois de creia o arquivo: \", len(lines[0].split(\",\"))\n",
    "file_after.close()\n"
   ]
  },
  {
   "cell_type": "code",
   "execution_count": 9,
   "metadata": {
    "collapsed": false
   },
   "outputs": [],
   "source": [
    "#cria lista de adjacencia\n",
    "graph = {\n",
    "    'vertices': vertices,\n",
    "    'edges': set(edges)\n",
    "}\n",
    "\n",
    "edges_selected = kruskal(graph)\n",
    "\n",
    "number_of_vertices = len(graph[\"vertices\"])\n",
    "\n",
    "adjacency_list = [[] for i in xrange(number_of_vertices)]\n",
    "\n",
    "for edge in edges_selected:\n",
    "    start_vertice = edge[1]\n",
    "    end_vertice = edge[2]\n",
    "    \n",
    "    adjacency_list[vertices_id[start_vertice]].append(str(vertices_id[end_vertice] + 1))\n",
    "    adjacency_list[vertices_id[end_vertice]].append(str(vertices_id[start_vertice] + 1))"
   ]
  },
  {
   "cell_type": "code",
   "execution_count": 10,
   "metadata": {
    "collapsed": false
   },
   "outputs": [
    {
     "name": "stdout",
     "output_type": "stream",
     "text": [
      "5414\n",
      "number after:  2\n"
     ]
    }
   ],
   "source": [
    "#criar arquivo de lista de adjacencia\n",
    "edges_file = file(folder + \"/edges.csv\", \"w+\")\n",
    "\n",
    "adjacency_list_text = [[] for i in xrange(number_of_vertices)]\n",
    "\n",
    "for i in xrange(number_of_vertices):\n",
    "    adjacency_list_text[i] = \" \".join(str(v) for v in adjacency_list[i])\n",
    "    \n",
    "print len(adjacency_list_text)\n",
    "    \n",
    "edges_file.write(\"\\n\".join(adjacency_list_text))\n",
    "edges_file.close()\n",
    "\n",
    "files_after_ = file(folder + \"/edges.csv\", \"r\")\n",
    "lines_ = files_after_.readlines()\n",
    "\n",
    "print \"number after: \", len(lines_[0].split(\"\\n\"))\n",
    "files_after_.close()\n"
   ]
  },
  {
   "cell_type": "code",
   "execution_count": 11,
   "metadata": {
    "collapsed": false,
    "scrolled": false
   },
   "outputs": [
    {
     "name": "stdout",
     "output_type": "stream",
     "text": [
      "value after:  2491\n",
      "value after:  2491\n",
      "value after:  2491\n",
      "value after:  2491\n",
      "value after:  2491\n",
      "value after:  2491\n"
     ]
    }
   ],
   "source": [
    "#cria arquivo de motify\n",
    "motify_file = open(motify, \"r\")\n",
    "motify_lines = motify_file.readlines()\n",
    "\n",
    "for i in xrange(len(motify_lines)):    \n",
    "    counter = 0\n",
    "    \n",
    "    motify_sample = motify_lines[i]\n",
    "    \n",
    "    motify_parse = re.split(r'\\t+', motify_sample)\n",
    "    motify_description = motify_parse[1].split()\n",
    "    \n",
    "    i_str = str(i + 1)\n",
    "\n",
    "    color_frequency = [\"0\"] * color_count\n",
    "    total_color = 0\n",
    "\n",
    "    for vertice_ in motify_description:\n",
    "        \n",
    "        if vertice_ in vertices_colors: \n",
    "            color = vertices_colors[vertice_]\n",
    "            \n",
    "            frequency = int(color_frequency[color])\n",
    "            \n",
    "            if frequency == 0:\n",
    "                total_color = total_color + 1\n",
    "            \n",
    "            color_frequency[color] = str(frequency + 1)\n",
    "        else:\n",
    "            counter = counter + 1\n",
    "    \n",
    "    total_vertices = len(motify_description) - counter\n",
    "    motify_frequency_file = open(folder + \"/motify-\" + i_str + \"-\" + str(total_vertices) + \"-\" + str(total_color) + \".csv\", \"w+\")\n",
    "\n",
    "    motify_frequency_file.write(\",\".join(color_frequency))\n",
    "    motify_frequency_file.close()\n",
    "    \n",
    "    file_after__ = open(folder + \"/motify-\" + i_str + \"-\" + str(total_vertices) + \"-\" + str(total_color) + \".csv\", \"r\")\n",
    "    files_lines__ = file_after__.readlines()\n",
    "    print \"value after: \", len(files_lines__[0].split(\",\"))\n",
    "    file_after__.close()"
   ]
  },
  {
   "cell_type": "code",
   "execution_count": null,
   "metadata": {
    "collapsed": true
   },
   "outputs": [],
   "source": []
  }
 ],
 "metadata": {
  "anaconda-cloud": {},
  "kernelspec": {
   "display_name": "Python [conda root]",
   "language": "python",
   "name": "conda-root-py"
  },
  "language_info": {
   "codemirror_mode": {
    "name": "ipython",
    "version": 2
   },
   "file_extension": ".py",
   "mimetype": "text/x-python",
   "name": "python",
   "nbconvert_exporter": "python",
   "pygments_lexer": "ipython2",
   "version": "2.7.12"
  }
 },
 "nbformat": 4,
 "nbformat_minor": 1
}
